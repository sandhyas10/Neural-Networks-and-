{
 "cells": [
  {
   "cell_type": "markdown",
   "metadata": {},
   "source": [
    "# ECBM E4040 - Assignment 2- Task 5: Kaggle Open-ended Competition\n",
    "\n",
    "Kaggle is a platform for predictive modelling and analytics competitions in which companies and researchers post data and statisticians and data miners compete to produce the best models for predicting and describing the data.\n",
    "\n",
    "If you don't have a Kaggle account, feel free to join at [www.kaggle.com](https://www.kaggle.com). To let the TAs do the grading more conveniently, please use Lionmail to join Kaggle and use UNI as your username.\n",
    "\n",
    "Visit the website for this competition to join: \n",
    "[https://www.kaggle.com/t/8dd419892b1c49a3afb0cea385a7e677](https://www.kaggle.com/t/8dd419892b1c49a3afb0cea385a7e677)\n",
    "\n",
    "Details about this in-class competition is shown on the website above. Please read carefully.\n",
    "\n",
    "<span style=\"color:red\">__TODO__:</span>\n",
    "1. Train a custom model for the bottle dataset classification problem. You are free to use any methods taught in the class or found by yourself on the Internet (ALWAYS provide reference to the source). General training methods include:\n",
    "    * Dropout\n",
    "    * Batch normalization\n",
    "    * Early stopping\n",
    "    * l1-norm & l2-norm penalization\n",
    "2. You'll be given the test set to generate your predictions (70% public + 30% private, but you don't know which ones are public/private). Achieve 70% accuracy on the public test set. The accuracy will be shown on the public leaderboard once you submit your prediction .csv file. \n",
    "3. (A) Report your results on the Kaggle, for comparison with other students' optimization results (you should do this several times). (C) Save your best model, using BitBucket, at the same time when you (B) submit the homework files into Courseworks. See instructions below. \n",
    "\n",
    "__Hint__: You can start from what you implemented in task 4. Another classic classification model named 'VGG16' can also be easily implemented."
   ]
  },
  {
   "cell_type": "markdown",
   "metadata": {},
   "source": [
    "## HW Submission Details:\n",
    "There are three components to reporting the results of this task: \n",
    "\n",
    "**(A) Submission (possible several) of the .csv prediction file throught the Kaggle platform;**. You should start doing this VARY early, so that students can compare their work as they are making progress with model optimization.\n",
    "\n",
    "**(B) Editing and submitting the content of this Jupyter notebook, through Courseworks; **\n",
    "(i) The code for your CNN model and for the training function. The code should be stored in __./ecbm4040/neuralnets/kaggle.py__;\n",
    "(ii) Print out your training process and accuracy __within this notebook__;\n",
    "\n",
    "**(C) Submitting your best CNN model through instructor-owned private BitBucket repo.**\n",
    "\n",
    "**Description of (C):** \n",
    "For this task, you will be utilizing bitbucket to save your model for submission. Bitbucket provides Git code managment. For those who are not familiar with git operations, please check [Learn Git with Bitbucket Cloud](https://www.atlassian.com/git/tutorials/learn-git-with-bitbucket-cloud) as reference.\n",
    "**TAs will create a private Bitbucket repository for each student, with the write access. This repo will be owned by the instructors. Make sure to properly submit your model to that exact repository (submissions to your own private repository will not count)** Students need to populate the following file to provide instructors with bitbucket account information: https://docs.google.com/spreadsheets/d/1_7cZjyr34I2y-AD_0N5UaJ3ZnqdhYcvrdoTsYvOSd-g/edit#gid=0.\n",
    "\n",
    "<span style=\"color:red\">__Submission content:__ :</span>\n",
    "(i) Upload your best model with all the data output (for example, __MODEL.data-00000-of-00001, MODEL.meta, MODEL.index__) into the  BitBucket. Store your model in the folder named \"__KaggleModel__\" within the BitBucket repository. \n",
    "Remember to delete any intermediate results, **we only want your best model. Do not upload any data files**. The instructors will rerun the uploaded best model and verify against the score which you reported on the Kaggle.\n",
    "\n"
   ]
  },
  {
   "cell_type": "markdown",
   "metadata": {},
   "source": [
    "## Train your model here"
   ]
  },
  {
   "cell_type": "markdown",
   "metadata": {},
   "source": [
    "## Save your best model"
   ]
  },
  {
   "cell_type": "code",
   "execution_count": 1,
   "metadata": {},
   "outputs": [
    {
     "data": {
      "text/plain": [
       "'/home/ecbm4040/Assignment2'"
      ]
     },
     "execution_count": 1,
     "metadata": {},
     "output_type": "execute_result"
    }
   ],
   "source": [
    "import os\n",
    "import numpy as np\n",
    "\n",
    "os.getcwd()"
   ]
  },
  {
   "cell_type": "code",
   "execution_count": 2,
   "metadata": {
    "scrolled": true
   },
   "outputs": [
    {
     "name": "stdout",
     "output_type": "stream",
     "text": [
      "./k-data/kaggle_train_128.zip already exists. Begin extracting...\n",
      "exists already!\n",
      "Current status:\n",
      "./train_128/0/\n",
      "Current status:\n",
      "./train_128/1/\n",
      "Current status:\n",
      "./train_128/2/\n",
      "Current status:\n",
      "./train_128/3/\n",
      "Current status:\n",
      "./train_128/4/\n"
     ]
    }
   ],
   "source": [
    "# YOUR CODE HERE\n",
    "from ecbm4040.kaggle_utils import load_data\n",
    "X_all, y_all = load_data(mode='all')\n"
   ]
  },
  {
   "cell_type": "code",
   "execution_count": 1,
   "metadata": {
    "scrolled": true
   },
   "outputs": [
    {
     "name": "stdout",
     "output_type": "stream",
     "text": [
      "./k-data/kaggle_test_128.zip already exists. Begin extracting...\n",
      "exists already!\n"
     ]
    }
   ],
   "source": [
    "from ecbm4040.kaggle_utils_test import load_test_data\n",
    "X_test=load_test_data(mode=\"all\")"
   ]
  },
  {
   "cell_type": "code",
   "execution_count": 3,
   "metadata": {
    "collapsed": true
   },
   "outputs": [],
   "source": [
    "\n",
    "random_ind=val=np.random.randint(15000,size=15000)\n",
    "\n",
    "num_val = 750 \n",
    "num_training = 14250\n",
    "\n",
    "validation = random_ind[0:num_val]\n",
    "training = random_ind[num_val:]\n"
   ]
  },
  {
   "cell_type": "code",
   "execution_count": 4,
   "metadata": {
    "collapsed": true
   },
   "outputs": [],
   "source": [
    "X_val = X_all[validation]\n",
    "X_train = X_all[training]\n",
    "y_val = y_all[validation]\n",
    "y_train = y_all[training]"
   ]
  },
  {
   "cell_type": "code",
   "execution_count": 5,
   "metadata": {
    "scrolled": false
   },
   "outputs": [
    {
     "name": "stdout",
     "output_type": "stream",
     "text": [
      "Train data shape:  (14250, 96, 96, 3)\n",
      "Train labels shape:  (14250,)\n",
      "Validation data shape:  (750, 96, 96, 3)\n",
      "Validation labels shape:  (750,)\n"
     ]
    }
   ],
   "source": [
    "print('Train data shape: ', X_train.shape)\n",
    "print('Train labels shape: ', y_train.shape)\n",
    "print('Validation data shape: ', X_val.shape)\n",
    "print('Validation labels shape: ', y_val.shape)"
   ]
  },
  {
   "cell_type": "markdown",
   "metadata": {},
   "source": [
    "## Generate .csv file for Kaggle"
   ]
  },
  {
   "cell_type": "code",
   "execution_count": 6,
   "metadata": {
    "scrolled": false
   },
   "outputs": [
    {
     "name": "stdout",
     "output_type": "stream",
     "text": [
      "Building my LeNet. Parameters: \n",
      "conv_featmap=[36, 18]\n",
      "fc_units=[100, 70]\n",
      "conv_kernel_size=[5, 5]\n",
      "pooling_size=[2, 2]\n",
      "l2_norm=0.01\n",
      "seed=235\n",
      "learning_rate=0.001\n",
      "(?, 96, 96, 3)\n",
      "(?, 96, 96, 3)\n",
      "(?, 96, 96, 36)\n",
      "(?, 96, 96, 36)\n",
      "(?, 48, 48, 36)\n",
      "(?, 48, 48, 36)\n",
      "(?, 48, 48, 18)\n",
      "(?, 24, 24, 18)\n",
      "number of batches for training: 570\n",
      "epoch 1 \n",
      "Best validation accuracy! iteration:100 accuracy: 65.2%\n",
      "Best validation accuracy! iteration:500 accuracy: 67.46666666666667%\n",
      "epoch 2 \n",
      "Best validation accuracy! iteration:600 accuracy: 80.26666666666667%\n",
      "Best validation accuracy! iteration:700 accuracy: 87.86666666666667%\n",
      "epoch 3 \n",
      "Best validation accuracy! iteration:1200 accuracy: 88.93333333333334%\n",
      "epoch 4 \n",
      "Best validation accuracy! iteration:1800 accuracy: 90.13333333333333%\n",
      "epoch 5 \n",
      "Best validation accuracy! iteration:2400 accuracy: 90.4%\n",
      "epoch 6 \n",
      "epoch 7 \n",
      "epoch 8 \n",
      "Best validation accuracy! iteration:4100 accuracy: 92.93333333333334%\n",
      "epoch 9 \n",
      "epoch 10 \n",
      "epoch 11 \n",
      "epoch 12 \n",
      "epoch 13 \n",
      "epoch 14 \n",
      "Best validation accuracy! iteration:7500 accuracy: 93.06666666666666%\n",
      "epoch 15 \n",
      "epoch 16 \n",
      "epoch 17 \n",
      "epoch 18 \n",
      "Best validation accuracy! iteration:9800 accuracy: 93.2%\n",
      "epoch 19 \n",
      "Best validation accuracy! iteration:10400 accuracy: 93.73333333333333%\n",
      "epoch 20 \n",
      "epoch 21 \n",
      "epoch 22 \n",
      "Best validation accuracy! iteration:12100 accuracy: 93.86666666666666%\n",
      "epoch 23 \n",
      "epoch 24 \n",
      "Best validation accuracy! iteration:13200 accuracy: 94.26666666666667%\n",
      "epoch 25 \n",
      "epoch 26 \n",
      "epoch 27 \n",
      "epoch 28 \n",
      "epoch 29 \n",
      "epoch 30 \n",
      "Traning ends. The best valid accuracy is 94.26666666666667. Model named lenet_1509829566.\n"
     ]
    }
   ],
   "source": [
    "from ecbm4040.neuralnets.kaggle import *\n",
    "import tensorflow as tf\n",
    "tf.reset_default_graph()\n",
    "img_size = 96\n",
    "kaggle_training(X_train, y_train, X_val, y_val,\n",
    "         conv_featmap=[36,18],\n",
    "         fc_units=[100,70],\n",
    "         conv_kernel_size=[5,5],\n",
    "         pooling_size=[2,2],\n",
    "         l2_norm=0.01,\n",
    "         seed=235,\n",
    "         learning_rate=1e-3,\n",
    "         epoch=30,\n",
    "         batch_size=100,\n",
    "         verbose=False,\n",
    "         pre_trained_model=None,pro = 0.95)"
   ]
  },
  {
   "cell_type": "code",
   "execution_count": 2,
   "metadata": {},
   "outputs": [
    {
     "name": "stdout",
     "output_type": "stream",
     "text": [
      "INFO:tensorflow:Restoring parameters from model/lenet_1509829566\n",
      "(?, 96, 96, 3)\n",
      "(?,)\n",
      "(?,)\n",
      "Tensor(\"inputs/Placeholder_1:0\", shape=(?,), dtype=int64)\n"
     ]
    }
   ],
   "source": [
    "from ecbm4040.neuralnets.kaggle import predict\n",
    "import tensorflow as tf\n",
    "results=predict(X_test,\"lenet_1509829566.meta\")"
   ]
  },
  {
   "cell_type": "code",
   "execution_count": 3,
   "metadata": {
    "collapsed": true
   },
   "outputs": [],
   "source": [
    "# The following code snippet can be used to generate your prediction .csv file.\n",
    "\n",
    "import csv\n",
    "with open('predicted.csv','w') as csvfile:\n",
    "    fieldnames = ['Id','label']\n",
    "    writer = csv.DictWriter(csvfile, fieldnames=fieldnames)\n",
    "    writer.writeheader()    \n",
    "    for index,l in enumerate(results):\n",
    "        filename = str(index)+'.png'\n",
    "        label = str(l)\n",
    "        writer.writerow({'Id': filename, 'label': label})"
   ]
  },
  {
   "cell_type": "code",
   "execution_count": null,
   "metadata": {
    "collapsed": true
   },
   "outputs": [],
   "source": []
  }
 ],
 "metadata": {
  "kernelspec": {
   "display_name": "Python 3",
   "language": "python",
   "name": "python3"
  },
  "language_info": {
   "codemirror_mode": {
    "name": "ipython",
    "version": 3
   },
   "file_extension": ".py",
   "mimetype": "text/x-python",
   "name": "python",
   "nbconvert_exporter": "python",
   "pygments_lexer": "ipython3",
   "version": "3.5.4"
  }
 },
 "nbformat": 4,
 "nbformat_minor": 2
}
