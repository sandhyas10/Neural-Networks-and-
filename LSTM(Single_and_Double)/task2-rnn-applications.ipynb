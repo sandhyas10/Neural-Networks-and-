{
 "cells": [
  {
   "cell_type": "markdown",
   "metadata": {},
   "source": [
    "# Task 2: RNN application -- Tweet Sentiment Analysis"
   ]
  },
  {
   "cell_type": "code",
   "execution_count": 134,
   "metadata": {},
   "outputs": [
    {
     "name": "stdout",
     "output_type": "stream",
     "text": [
      "The autoreload extension is already loaded. To reload it, use:\n",
      "  %reload_ext autoreload\n"
     ]
    }
   ],
   "source": [
    "# Import modules\n",
    "from __future__ import print_function\n",
    "import tensorflow as tf\n",
    "import numpy as np\n",
    "import json\n",
    "import time\n",
    "import matplotlib.pyplot as plt\n",
    "import pickle\n",
    "\n",
    "# Plot configurations\n",
    "% matplotlib inline\n",
    "# Notebook auto reloads code. (Ref: http://stackoverflow.com/questions/1907993/autoreload-of-modules-in-ipython)\n",
    "% load_ext autoreload\n",
    "% autoreload 2"
   ]
  },
  {
   "cell_type": "markdown",
   "metadata": {},
   "source": [
    "### Load data"
   ]
  },
  {
   "cell_type": "code",
   "execution_count": 135,
   "metadata": {},
   "outputs": [
    {
     "name": "stdout",
     "output_type": "stream",
     "text": [
      "size of original train set: 60000\n",
      "size of original test set: 20000\n",
      "****************************************************************************************************\n",
      "size of train set: 60000, #positive: 30055, #negative: 29945\n",
      "size of test set: 1000, #positive: 510, #negative: 490\n",
      "['it', 'will', 'help', 'relieve', 'your', 'stress', 'padtoken', 'padtoken', 'padtoken', 'padtoken', 'padtoken', 'padtoken', 'padtoken', 'padtoken', 'padtoken', 'padtoken', 'padtoken', 'padtoken', 'padtoken', 'padtoken']\n",
      "sentiment: positive\n"
     ]
    }
   ],
   "source": [
    "with open(\"./tweets_data/vocabulary.pkl\", \"rb\") as f:\n",
    "    vocabulary = pickle.load(f)\n",
    "\n",
    "# load our data and separate it into tweets and labels\n",
    "train_data = json.load(open('tweets_data/trainTweets_preprocessed.json', 'r'))\n",
    "train_data = list(map(lambda row:(np.array(row[0],dtype=np.int32),str(row[1])),train_data))\n",
    "train_tweets = np.array([t[0] for t in train_data])\n",
    "train_labels = np.array([int(t[1]) for t in train_data])\n",
    "\n",
    "test_data = json.load(open('tweets_data/testTweets_preprocessed.json', 'r'))\n",
    "test_data = list(map(lambda row:(np.array(row[0],dtype=np.int32),str(row[1])),test_data))\n",
    "test_tweets = np.array([t[0] for t in test_data])\n",
    "test_labels = np.array([int(t[1]) for t in test_data])\n",
    "\n",
    "print(\"size of original train set: {}\".format(len(train_tweets)))\n",
    "print(\"size of original test set: {}\".format(len(test_tweets)))\n",
    "\n",
    "# only select first 1000 test sample for test\n",
    "test_tweets = test_tweets[:1000]\n",
    "test_labels = test_labels[:1000]\n",
    "\n",
    "print(\"*\"*100)\n",
    "print(\"size of train set: {}, #positive: {}, #negative: {}\".format(len(train_tweets), np.sum(train_labels), len(train_tweets)-np.sum(train_labels)))\n",
    "print(\"size of test set: {}, #positive: {}, #negative: {}\".format(len(test_tweets), np.sum(test_labels), len(test_tweets)-np.sum(test_labels)))\n",
    "\n",
    "# show text of the idx-th train tweet\n",
    "# The 'padtoken' is used to ensure each tweet has the same length\n",
    "idx = 100\n",
    "train_text = [vocabulary[x] for x in train_tweets[idx]]\n",
    "print(train_text)\n",
    "sentiment_label = [\"negative\", \"positive\"]\n",
    "print(\"sentiment: {}\".format(sentiment_label[train_labels[idx]]))"
   ]
  },
  {
   "cell_type": "markdown",
   "metadata": {},
   "source": [
    "## Part 1: LSTM Encoder"
   ]
  },
  {
   "cell_type": "markdown",
   "metadata": {},
   "source": [
    "### train a single-layer lstm network\n",
    "\n",
    "First of all, we'll build a single-layer LSTM network for the analysis. The network structure is the following:\n",
    "\n",
    "![](./img/singleLSTM.png)\n",
    "\n",
    "<span style=\"color:red\">__TODO:__</span> Below, we've defined the network for you. Please read the code carefully to make sure you understand it. Then, please write a training function to train this network. The settings are:\n",
    "\n",
    "1. Train the network for 1000 iterations. In each iteration, use batch_size samples to train the network.\n",
    "2. For every 50 iterations, apply the network on the test set, and print out the test accuracy and mean loss.\n",
    "\n",
    "With these settings, what accuracy could you get? You can try to change some stuff in the network to see if you could get a better accuracy (this is optional)."
   ]
  },
  {
   "cell_type": "code",
   "execution_count": 138,
   "metadata": {
    "collapsed": true
   },
   "outputs": [],
   "source": [
    "# define a linear layer, y = x*w + b\n",
    "def linear(input_, output_size, name, init_bias=0.0):\n",
    "    shape = input_.get_shape().as_list()\n",
    "    with tf.variable_scope(name):\n",
    "        init = tf.truncated_normal([shape[-1], output_size], mean=0.0, stddev=1.0 / shape[-1]**0.5)\n",
    "        W = tf.get_variable(\"weight\", initializer=init)\n",
    "    if init_bias is None:\n",
    "        return tf.matmul(input_, W)\n",
    "    with tf.variable_scope(name):\n",
    "        b = tf.get_variable(\"bias\", [output_size], initializer=tf.constant_initializer(init_bias))\n",
    "    return tf.matmul(input_, W) + b\n"
   ]
  },
  {
   "cell_type": "code",
   "execution_count": 139,
   "metadata": {
    "collapsed": true
   },
   "outputs": [],
   "source": [
    "# set variables\n",
    "tweet_size = 20\n",
    "hidden_size = 100\n",
    "vocab_size = 7597\n",
    "batch_size = 64\n",
    "\n",
    "# this just makes sure that all our following operations will be placed in the right graph.\n",
    "tf.reset_default_graph()\n",
    "\n",
    "# make placeholders for data we'll feed in\n",
    "tweets = tf.placeholder(tf.int32, [None, tweet_size])\n",
    "labels = tf.placeholder(tf.float32, [None])\n",
    "\n",
    "tweets_onehot = tf.one_hot(tweets, depth=vocab_size, axis=-1)\n",
    "\n",
    "# define the lstm cell\n",
    "lstm_cell = tf.contrib.rnn.LSTMCell(hidden_size)\n",
    "\n",
    "# define the op that runs the LSTM, across time, on the data\n",
    "init_state = lstm_cell.zero_state(batch_size, tf.float32)\n",
    "outputs, final_state = tf.nn.dynamic_rnn(lstm_cell, tweets_onehot, initial_state=init_state, dtype=tf.float32)\n",
    "\n",
    "# define that our final sentiment logit is a linear function of the final state of the LSTM\n",
    "sentiment = linear(final_state[-1], 1, name=\"output\")\n",
    "\n",
    "# define cross entropy/sigmoid loss function\n",
    "sentiment = tf.squeeze(sentiment, [1])\n",
    "loss = tf.nn.sigmoid_cross_entropy_with_logits(logits=sentiment, labels=labels)\n",
    "loss = tf.reduce_mean(loss)\n",
    "\n",
    "# compute accuracy\n",
    "prob = tf.nn.sigmoid(sentiment)\n",
    "prediction = tf.to_float(tf.greater_equal(prob, 0.5))\n",
    "acc = tf.to_float(tf.equal(prediction, labels))\n",
    "acc = tf.reduce_mean(acc)\n",
    "\n",
    "# define optimizer\n",
    "trainer = tf.train.AdamOptimizer()\n",
    "gradients = trainer.compute_gradients(loss)\n",
    "gradients_clipped = [(tf.clip_by_value(t[0],-1,1),t[1]) for t in gradients]\n",
    "optimizer = trainer.apply_gradients(gradients_clipped)"
   ]
  },
  {
   "cell_type": "code",
   "execution_count": 140,
   "metadata": {
    "scrolled": true
   },
   "outputs": [
    {
     "name": "stdout",
     "output_type": "stream",
     "text": [
      "test acc = 49.47916567325592, test mean loss = 0.6930140852928162, test total loss=10.395211219787598\n",
      "test acc = 63.12500238418579, test mean loss = 0.6439870595932007, test total loss=9.659806251525879\n",
      "test acc = 67.1875, test mean loss = 0.5951756238937378, test total loss=8.927634239196777\n",
      "test acc = 70.41666507720947, test mean loss = 0.5875390768051147, test total loss=8.81308650970459\n",
      "test acc = 72.1875011920929, test mean loss = 0.562333345413208, test total loss=8.4350004196167\n",
      "test acc = 72.1875011920929, test mean loss = 0.544240415096283, test total loss=8.163606643676758\n",
      "test acc = 72.70833253860474, test mean loss = 0.5419207215309143, test total loss=8.12881088256836\n",
      "test acc = 70.83333134651184, test mean loss = 0.5585010051727295, test total loss=8.377514839172363\n",
      "test acc = 73.64583611488342, test mean loss = 0.5359480381011963, test total loss=8.039220809936523\n",
      "test acc = 73.64583611488342, test mean loss = 0.5276620388031006, test total loss=7.91493034362793\n",
      "test acc = 73.4375, test mean loss = 0.5220868587493896, test total loss=7.831302642822266\n",
      "test acc = 73.64583611488342, test mean loss = 0.5203686356544495, test total loss=7.8055291175842285\n",
      "test acc = 71.35416865348816, test mean loss = 0.5426007509231567, test total loss=8.13901138305664\n",
      "test acc = 75.3125011920929, test mean loss = 0.5206827521324158, test total loss=7.81024169921875\n",
      "test acc = 76.04166865348816, test mean loss = 0.5101519227027893, test total loss=7.652278900146484\n",
      "test acc = 74.89583492279053, test mean loss = 0.5165507793426514, test total loss=7.748261451721191\n",
      "test acc = 74.27083253860474, test mean loss = 0.5143405795097351, test total loss=7.715108871459961\n",
      "test acc = 75.0, test mean loss = 0.5186277627944946, test total loss=7.779416561126709\n",
      "test acc = 74.89583492279053, test mean loss = 0.5108067989349365, test total loss=7.662101745605469\n"
     ]
    }
   ],
   "source": [
    "# Training function\n",
    "num_steps = train_tweets.shape[0]//batch_size\n",
    "with tf.Session() as sess:\n",
    "    sess.run(tf.global_variables_initializer())\n",
    "    for step in range(num_steps):\n",
    "        # TODO: get data for a batch\n",
    "        batch_tweets = train_tweets[batch_size*step:batch_size*(step+1)]\n",
    "        batch_labels = train_labels[batch_size*step:batch_size*(step+1)]\n",
    "\n",
    "        # TODO: run the 'optimizer', 'loss', and 'acc' operations in the graph using the batch data\n",
    "        _, train_loss, train_acc = sess.run([optimizer,loss,acc], feed_dict={tweets: batch_tweets, labels: batch_labels})\n",
    "\n",
    "        if (step % 50 == 0):\n",
    "            # TODO: get test accuracy and loss, and print them out.\n",
    "            num_batches=test_tweets.shape[0]//batch_size\n",
    "            test_loss_sum=[]\n",
    "            test_acc_sum=[]\n",
    "            test_acc_mean=0\n",
    "            test_loss_=0\n",
    "            test_loss_mean=0\n",
    "            for i in range(num_batches):\n",
    "                batch_test_tweets = test_tweets[batch_size*i:batch_size*(i+1)]\n",
    "                batch_test_labels = test_labels[batch_size*i:batch_size*(i+1)]\n",
    "                test_acc,test_loss = sess.run([acc,loss], feed_dict={tweets: batch_test_tweets, labels: batch_test_labels})\n",
    "                test_loss_sum.append(test_loss)\n",
    "                test_acc_sum.append(test_acc)\n",
    "            test_loss_mean=np.mean(test_loss_sum)\n",
    "            test_loss_=np.sum(test_loss_sum)\n",
    "            \n",
    "            test_acc_mean=np.mean(test_acc_sum)\n",
    "            \n",
    "            print('test acc = {}, test mean loss = {}, test total loss={}'.format(test_acc_mean*100,test_loss_mean,test_loss_))\n",
    "  "
   ]
  },
  {
   "cell_type": "markdown",
   "metadata": {},
   "source": [
    "### train a two-layer lstm network\n",
    "\n",
    "Next, we look at a slightly more difficult network structure: a double-layer LSTM. The output of the first LSTM cell is propagated to the second LSTM cell. We only need to make small modifications to the previous network to construct this one.\n",
    "\n",
    "![](./img/doubleLSTM.png)\n",
    "\n",
    "<span style=\"color:red\">__TODO:__</span> Define this double-layer LSTM in the below notebook cell. You can copy the single-layer network code and make changes to it. After that, train the network using the function you just wrote.\n",
    "\n",
    "Hint: Use **tf.contrib.rnn.MultiRNNCell**. You'll find there are only 2-3 lines of code that need to be changed."
   ]
  },
  {
   "cell_type": "code",
   "execution_count": null,
   "metadata": {
    "collapsed": true
   },
   "outputs": [],
   "source": [
    "def linear(input_, output_size, name, init_bias=0.0):\n",
    "    shape = input_.get_shape().as_list()\n",
    "    with tf.variable_scope(name):\n",
    "        init = tf.truncated_normal([shape[-1], output_size], mean=0.0, stddev=1.0 / shape[-1]**0.5)\n",
    "        W = tf.get_variable(\"weight\", initializer=init)\n",
    "    if init_bias is None:\n",
    "        return tf.matmul(input_, W)\n",
    "    with tf.variable_scope(name):\n",
    "        b = tf.get_variable(\"bias\", [output_size], initializer=tf.constant_initializer(init_bias))\n",
    "    return tf.matmul(input_, W) + b\n",
    "\n"
   ]
  },
  {
   "cell_type": "code",
   "execution_count": 141,
   "metadata": {
    "collapsed": true
   },
   "outputs": [],
   "source": [
    "# YOUR DOUBLE-LAYER LSTM Here\n",
    "\n",
    "# set variables\n",
    "tweet_size = 20\n",
    "hidden_size = 100\n",
    "vocab_size = 7597\n",
    "batch_size = 64\n",
    "\n",
    "# this just makes sure that all our following operations will be placed in the right graph.\n",
    "tf.reset_default_graph()\n",
    "\n",
    "# make placeholders for data we'll feed in\n",
    "tweets = tf.placeholder(tf.int32, [None, tweet_size])\n",
    "labels = tf.placeholder(tf.float32, [None])\n",
    "\n",
    "tweets_onehot = tf.one_hot(tweets, depth=vocab_size, axis=-1)\n",
    "\n",
    "# define the lstm cell\n",
    "lstm_cell_1 = tf.contrib.rnn.LSTMCell(hidden_size)\n",
    "lstm_cell_2 = tf.contrib.rnn.LSTMCell(hidden_size)\n",
    "\n",
    "#lstm_cell = tf.contrib.rnn.MultiRNNCell([lstm_cell_1]*2)\n",
    "lstm_cell = tf.contrib.rnn.MultiRNNCell([lstm_cell_1,lstm_cell_2])\n",
    "\n",
    "# define the op that runs the LSTM, across time, on the data\n",
    "init_state = lstm_cell.zero_state(batch_size, tf.float32)\n",
    "outputs, final_state = tf.nn.dynamic_rnn(lstm_cell, tweets_onehot, initial_state=init_state, dtype=tf.float32)\n",
    "\n",
    "# define that our final sentiment logit is a linear function of the final state of the LSTM\n",
    "sentiment = linear(final_state[-1][-1], 1, name=\"output\")\n",
    "\n",
    "# define cross entropy/sigmoid loss function\n",
    "sentiment = tf.squeeze(sentiment, [1])\n",
    "loss = tf.nn.sigmoid_cross_entropy_with_logits(logits=sentiment, labels=labels)\n",
    "loss = tf.reduce_mean(loss)\n",
    "\n",
    "# compute accuracy\n",
    "prob = tf.nn.sigmoid(sentiment)\n",
    "prediction = tf.to_float(tf.greater_equal(prob, 0.5))\n",
    "acc = tf.to_float(tf.equal(prediction, labels))\n",
    "acc = tf.reduce_mean(acc)\n",
    "\n",
    "# define optimizer\n",
    "trainer = tf.train.AdamOptimizer()\n",
    "gradients = trainer.compute_gradients(loss)\n",
    "gradients_clipped = [(tf.clip_by_value(t[0],-1,1),t[1]) for t in gradients]\n",
    "optimizer = trainer.apply_gradients(gradients_clipped)"
   ]
  },
  {
   "cell_type": "code",
   "execution_count": 142,
   "metadata": {},
   "outputs": [
    {
     "name": "stdout",
     "output_type": "stream",
     "text": [
      "test acc = 55.000001192092896, test mean loss = 0.6926660537719727, test total loss=10.38999080657959\n",
      "test acc = 65.52083492279053, test mean loss = 0.6253927946090698, test total loss=9.380891799926758\n",
      "test acc = 67.81250238418579, test mean loss = 0.5864055752754211, test total loss=8.796083450317383\n",
      "test acc = 70.6250011920929, test mean loss = 0.579820990562439, test total loss=8.697315216064453\n",
      "test acc = 72.91666865348816, test mean loss = 0.5467126965522766, test total loss=8.200690269470215\n",
      "test acc = 74.47916865348816, test mean loss = 0.532818078994751, test total loss=7.9922709465026855\n",
      "test acc = 74.47916865348816, test mean loss = 0.5344914793968201, test total loss=8.017372131347656\n",
      "test acc = 72.60416746139526, test mean loss = 0.5489180088043213, test total loss=8.233770370483398\n",
      "test acc = 75.62500238418579, test mean loss = 0.5229235291481018, test total loss=7.843852996826172\n",
      "test acc = 73.95833134651184, test mean loss = 0.532448410987854, test total loss=7.986725807189941\n",
      "test acc = 74.89583492279053, test mean loss = 0.5158234238624573, test total loss=7.737351417541504\n",
      "test acc = 75.10416507720947, test mean loss = 0.512352705001831, test total loss=7.685290813446045\n",
      "test acc = 73.54166507720947, test mean loss = 0.5211993455886841, test total loss=7.817990303039551\n",
      "test acc = 76.04166865348816, test mean loss = 0.5156789422035217, test total loss=7.7351837158203125\n",
      "test acc = 76.77083611488342, test mean loss = 0.5061967372894287, test total loss=7.592950820922852\n",
      "test acc = 75.72916746139526, test mean loss = 0.5067291855812073, test total loss=7.600937843322754\n",
      "test acc = 75.0, test mean loss = 0.5084603428840637, test total loss=7.6269049644470215\n",
      "test acc = 75.0, test mean loss = 0.5116915106773376, test total loss=7.67537260055542\n",
      "test acc = 74.58333373069763, test mean loss = 0.50965416431427, test total loss=7.644812107086182\n"
     ]
    }
   ],
   "source": [
    "# YOUR TRAINING HERE\n",
    "# Training function\n",
    "num_steps = train_tweets.shape[0]//batch_size\n",
    "with tf.Session() as sess:\n",
    "    sess.run(tf.global_variables_initializer())\n",
    "    for step in range(num_steps):\n",
    "        # TODO: get data for a batch\n",
    "        batch_tweets = train_tweets[batch_size*step:batch_size*(step+1)]\n",
    "        batch_labels = train_labels[batch_size*step:batch_size*(step+1)]\n",
    "\n",
    "        # TODO: run the 'optimizer', 'loss', and 'acc' operations in the graph using the batch data\n",
    "        _, train_loss, train_acc = sess.run([optimizer,loss,acc], feed_dict={tweets: batch_tweets, labels: batch_labels})\n",
    "\n",
    "        if (step % 50 == 0):\n",
    "            # TODO: get test accuracy and loss, and print them out.\n",
    "            num_batches=test_tweets.shape[0]//batch_size\n",
    "            test_loss_sum=[]\n",
    "            test_acc_sum=[]\n",
    "            test_acc_mean=0\n",
    "            test_loss_=0\n",
    "            test_loss_mean=0\n",
    "            for i in range(num_batches):\n",
    "                batch_test_tweets = test_tweets[batch_size*i:batch_size*(i+1)]\n",
    "                batch_test_labels = test_labels[batch_size*i:batch_size*(i+1)]\n",
    "                test_acc,test_loss = sess.run([acc,loss], feed_dict={tweets: batch_test_tweets, labels: batch_test_labels})\n",
    "                test_loss_sum.append(test_loss)\n",
    "                test_acc_sum.append(test_acc)\n",
    "            test_loss_mean=np.mean(test_loss_sum)\n",
    "            test_loss_=np.sum(test_loss_sum)\n",
    "            \n",
    "            test_acc_mean=np.mean(test_acc_sum)\n",
    "            \n",
    "            print('test acc = {}, test mean loss = {}, test total loss={}'.format(test_acc_mean*100,test_loss_mean,test_loss_))\n",
    "            \n",
    "            "
   ]
  },
  {
   "cell_type": "markdown",
   "metadata": {},
   "source": [
    "## Part 2: Embedding Lookup layer\n",
    "\n",
    "![](./img/embedding.png)"
   ]
  },
  {
   "cell_type": "markdown",
   "metadata": {},
   "source": [
    "###  Define an embedding layer\n",
    "\n",
    "It's not hard to imagine in the previous practices, the input we fed in are very sparse because each word was represented as a one-hot vector. This makes it difficult for the network to understand what story the input data is telling. \n",
    "\n",
    "Word embedding: instead of using a one-hot vector to represent each word, we can add an word embedding matrix in which each word is represented as a low-dimensional vector. Note that this representation is not sparse any more, because we're working in a continuous vector space now. Words that share similar/related semantic meaning should be 'close to each other' in this vector space (we could define a distance measure to estimate the closeness). \n",
    "\n",
    "[https://www.tensorflow.org/tutorials/word2vec](https://www.tensorflow.org/tutorials/word2vec)\n",
    "\n",
    "<span style=\"color:red\">__TODO:__</span> Take a look at the website above, and write a function to do the embedding. The website itself is a very good tutorial.\n",
    "\n",
    "Hint: Use **tf.nn.embedding_lookup**"
   ]
  },
  {
   "cell_type": "code",
   "execution_count": 143,
   "metadata": {
    "collapsed": true
   },
   "outputs": [],
   "source": [
    "def embedding(input_, vocab_size, output_size, name):\n",
    "    \"\"\"\n",
    "    1. Define an embedding matrix\n",
    "    2. return both the lookup results and the embedding matrix.\n",
    "    \"\"\"\n",
    "    with tf.variable_scope(name):\n",
    "        embedding_matrix=tf.get_variable(\"emb_matrix\",initializer=tf.random_uniform([vocab_size,output_size],minval=-1,maxval=1))\n",
    "    embeddings=tf.nn.embedding_lookup(embedding_matrix,input_)\n",
    "    return embedding_matrix,embeddings\n",
    "# YOUR CODE HERE"
   ]
  },
  {
   "cell_type": "markdown",
   "metadata": {},
   "source": [
    "### Train a single lstm network with embedding layer\n",
    "\n",
    "<span style=\"color:red\">__TODO:__</span> Build a single-layer LSTM network according to the network structure. Then, train the network with the training function you wrote."
   ]
  },
  {
   "cell_type": "code",
   "execution_count": null,
   "metadata": {
    "collapsed": true
   },
   "outputs": [],
   "source": [
    "def linear(input_, output_size, name, init_bias=0.0):\n",
    "    shape = input_.get_shape().as_list()\n",
    "    with tf.variable_scope(name):\n",
    "        init = tf.truncated_normal([shape[-1], output_size], mean=0.0, stddev=1.0 / shape[-1]**0.5)\n",
    "        W = tf.get_variable(\"weight\", initializer=init)\n",
    "    if init_bias is None:\n",
    "        return tf.matmul(input_, W)\n",
    "    with tf.variable_scope(name):\n",
    "        b = tf.get_variable(\"bias\", [output_size], initializer=tf.constant_initializer(init_bias))\n",
    "    return tf.matmul(input_, W) + b\n",
    "\n"
   ]
  },
  {
   "cell_type": "code",
   "execution_count": 144,
   "metadata": {
    "collapsed": true
   },
   "outputs": [],
   "source": [
    "# YOUR EMBEDDING SINGLE-LAYER LSTM HERE\n",
    "# set variables\n",
    "tweet_size = 20\n",
    "hidden_size = 100\n",
    "vocab_size = 7597\n",
    "batch_size = 64\n",
    "embed_size=5\n",
    "name=\"embedding\"\n",
    "# this just makes sure that all our following operations will be placed in the right graph.\n",
    "tf.reset_default_graph()\n",
    "\n",
    "# make placeholders for data we'll feed in\n",
    "tweets = tf.placeholder(tf.int32, [None, tweet_size])\n",
    "labels = tf.placeholder(tf.float32, [None])\n",
    "\n",
    "embedding_matrix,embeddings=embedding(tweets, vocab_size, embed_size,name)\n",
    "# define the lstm cell\n",
    "lstm_cell = tf.contrib.rnn.LSTMCell(hidden_size)\n",
    "\n",
    "# define the op that runs the LSTM, across time, on the data\n",
    "init_state = lstm_cell.zero_state(batch_size, tf.float32)\n",
    "outputs, final_state = tf.nn.dynamic_rnn(lstm_cell, embeddings, initial_state=init_state, dtype=tf.float32)\n",
    "\n",
    "# define that our final sentiment logit is a linear function of the final state of the LSTM\n",
    "sentiment = linear(final_state[-1], 1, name=\"output\")\n",
    "\n",
    "# define cross entropy/sigmoid loss function\n",
    "sentiment = tf.squeeze(sentiment, [1])\n",
    "loss = tf.nn.sigmoid_cross_entropy_with_logits(logits=sentiment, labels=labels)\n",
    "loss = tf.reduce_mean(loss)\n",
    "\n",
    "# compute accuracy\n",
    "prob = tf.nn.sigmoid(sentiment)\n",
    "prediction = tf.to_float(tf.greater_equal(prob, 0.5))\n",
    "acc = tf.to_float(tf.equal(prediction, labels))\n",
    "acc = tf.reduce_mean(acc)\n",
    "\n",
    "# define optimizer\n",
    "trainer = tf.train.AdamOptimizer()\n",
    "gradients = trainer.compute_gradients(loss)\n",
    "gradients_clipped = [(tf.clip_by_value(t[0],-1,1),t[1]) for t in gradients]\n",
    "optimizer = trainer.apply_gradients(gradients_clipped)"
   ]
  },
  {
   "cell_type": "code",
   "execution_count": 145,
   "metadata": {},
   "outputs": [
    {
     "name": "stdout",
     "output_type": "stream",
     "text": [
      "test acc = 51.66666507720947, mean test loss = 0.692539632320404, total test loss=10.388094902038574\n",
      "test acc = 55.20833134651184, mean test loss = 0.6835389733314514, total test loss=10.253084182739258\n",
      "test acc = 56.87500238418579, mean test loss = 0.6786097884178162, total test loss=10.179146766662598\n",
      "test acc = 57.60416388511658, mean test loss = 0.6749989986419678, total test loss=10.124984741210938\n",
      "test acc = 58.22916626930237, mean test loss = 0.6758596897125244, total test loss=10.137895584106445\n",
      "test acc = 59.27083492279053, mean test loss = 0.6679708957672119, total test loss=10.019563674926758\n",
      "test acc = 59.375, mean test loss = 0.6691741943359375, total test loss=10.037612915039062\n",
      "test acc = 60.208332538604736, mean test loss = 0.6588262319564819, total test loss=9.882393836975098\n",
      "test acc = 61.14583611488342, mean test loss = 0.657486081123352, total test loss=9.86229133605957\n",
      "test acc = 61.770832538604736, mean test loss = 0.6517094373703003, total test loss=9.775641441345215\n",
      "test acc = 61.97916865348816, mean test loss = 0.6487139463424683, total test loss=9.730709075927734\n",
      "test acc = 63.02083134651184, mean test loss = 0.64692622423172, total test loss=9.703893661499023\n",
      "test acc = 63.85416388511658, mean test loss = 0.6378950476646423, total test loss=9.568426132202148\n",
      "test acc = 64.16666507720947, mean test loss = 0.6309958696365356, total test loss=9.464938163757324\n",
      "test acc = 64.99999761581421, mean test loss = 0.6227067708969116, total test loss=9.340601921081543\n",
      "test acc = 65.3124988079071, mean test loss = 0.6127578616142273, total test loss=9.191368103027344\n",
      "test acc = 67.29166507720947, mean test loss = 0.6116923093795776, total test loss=9.175384521484375\n",
      "test acc = 66.04166626930237, mean test loss = 0.6089909672737122, total test loss=9.134864807128906\n",
      "test acc = 67.29166507720947, mean test loss = 0.6008625030517578, total test loss=9.012937545776367\n"
     ]
    }
   ],
   "source": [
    "# YOUR TRAINING HERE\n",
    "# Training function\n",
    "num_steps = train_tweets.shape[0]//batch_size\n",
    "with tf.Session() as sess:\n",
    "    sess.run(tf.global_variables_initializer())\n",
    "    embeds=embedding_matrix.eval()\n",
    "    for step in range(num_steps):\n",
    "        # TODO: get data for a batch\n",
    "        batch_tweets = train_tweets[batch_size*step:batch_size*(step+1)]\n",
    "        batch_labels = train_labels[batch_size*step:batch_size*(step+1)]\n",
    "\n",
    "        # TODO: run the 'optimizer', 'loss', and 'acc' operations in the graph using the batch data\n",
    "        _, train_loss, train_acc = sess.run([optimizer,loss,acc], feed_dict={tweets: batch_tweets, labels: batch_labels})\n",
    "\n",
    "        if (step % 50 == 0):\n",
    "            # TODO: get test accuracy and loss, and print them out.\n",
    "            num_batches=test_tweets.shape[0]//batch_size\n",
    "            test_loss_sum=[]\n",
    "            test_acc_sum=[]\n",
    "            test_acc_mean=0\n",
    "            test_loss_=0\n",
    "            test_loss_mean=0\n",
    "            for i in range(num_batches):\n",
    "                batch_test_tweets = test_tweets[batch_size*i:batch_size*(i+1),:]\n",
    "                batch_test_labels = test_labels[batch_size*i:batch_size*(i+1)]\n",
    "                test_acc,test_loss = sess.run([acc,loss], feed_dict={tweets: batch_test_tweets, labels: batch_test_labels})\n",
    "                test_loss_sum.append(test_loss)\n",
    "                test_acc_sum.append(test_acc)\n",
    "            test_loss_mean=np.mean(test_loss_sum)\n",
    "            test_loss_=np.sum(test_loss_sum)\n",
    "            \n",
    "            test_acc_mean=np.mean(test_acc_sum)\n",
    "            \n",
    "            print('test acc = {}, mean test loss = {}, total test loss={}'.format(test_acc_mean*100,test_loss_mean,test_loss_))\n",
    "    "
   ]
  },
  {
   "cell_type": "markdown",
   "metadata": {},
   "source": [
    "### Visualize word vectors via tSNE\n",
    "\n",
    "<span style=\"color:red\">__TODO:__</span>\n",
    "\n",
    "First, you need to retrieve **embedding matrix** from the network. Then use tSNE to reduce each low-dimensional word vector into a 2D vector. \n",
    "\n",
    "And then, you should visualize some interesting word pairs in 2D panel. You may find **scatter** function in **matplotlib.pyplot** useful.\n",
    "\n",
    "\n",
    "Hint: You can use **TSNE** tool provided in **scikit-learn**. And if you encounter dead kernel problem caused by \"Intel MKL FATAL ERROR: Cannot load libmkl_avx.so or libmkl_def.so\", please reinstall scikit-learn without MKL, ie., **conda install nomkl numpy scipy scikit-learn numexpr**. \n",
    "\n",
    "Here we provide some word pairs for you, like female-male or country-capital. And you can observe that these word-pair will look parallel with each other in a 2D tSNE panel. And you can find some other words and explore their relationship.\n",
    "\n",
    "The result for female-male pairs should look like, and you will observe that king-men and queen-women are parallel to each other in a 2D panel.\n",
    "\n",
    "\n",
    "![](./img/tsne_female_male.png)"
   ]
  },
  {
   "cell_type": "code",
   "execution_count": 146,
   "metadata": {
    "collapsed": true
   },
   "outputs": [],
   "source": [
    "female_male = [\"men\", \"women\", \"king\", \"queen\"]\n",
    "country_capital = [\"spain\", \"madrid\", \"italy\", \"rome\", \"japan\", \"tokyo\"]\n",
    "# you can try some other words\n",
    "\n",
    "def get_embed(input_,embedding_matrix):\n",
    "    with tf.Session() as sess:\n",
    "        rev_lookup=tf.nn.embedding_lookup(embedding_matrix,input_)\n",
    "        results=sess.run(rev_lookup)\n",
    "    return(results)\n",
    "\n",
    "def get_vectors(list_of_words):\n",
    "    with open(\"./tweets_data/vocabulary.pkl\", \"rb\") as f:\n",
    "        vocabulary = pickle.load(f)\n",
    "    vectors=[]\n",
    "    vocab=list(vocabulary)\n",
    "    for i in list_of_words:\n",
    "        vectors.append((vocab.index(i)))\n",
    "    return(np.array(vectors))\n",
    "\n"
   ]
  },
  {
   "cell_type": "code",
   "execution_count": 158,
   "metadata": {},
   "outputs": [
    {
     "data": {
      "image/png": "[encoded data removed]",
      "text/plain": [
       "<matplotlib.figure.Figure at 0x7f2e3014af28>"
      ]
     },
     "metadata": {},
     "output_type": "display_data"
    }
   ],
   "source": [
    "from sklearn.manifold import TSNE\n",
    "import matplotlib.pyplot as plt\n",
    "with open(\"./tweets_data/vocabulary.pkl\", \"rb\") as f:\n",
    "        vocabulary = pickle.load(f)\n",
    "        vocab=list(vocabulary)\n",
    "\n",
    "\n",
    "vectors = get_vectors(female_male)\n",
    "\n",
    "rev_lookup=get_embed(vectors,embeds)\n",
    "X_embed= TSNE(n_components=2).fit_transform(rev_lookup)\n",
    "\n",
    "fig=plt.figure()\n",
    "plt.subplot(1, 1,1)\n",
    "plt.scatter(X_embed[:,0],X_embed[:,-1],edgecolors='none',s=100)\n",
    "    \n",
    "for i,data in enumerate(female_male):\n",
    "    plt.annotate(data,(X_embed[i,0],X_embed[i,-1]),size=10)\n",
    "    \n",
    "plt.title('Female_male')\n",
    "plt.show()\n",
    "\n",
    "\n",
    "\n",
    "\n",
    "### your code here"
   ]
  },
  {
   "cell_type": "code",
   "execution_count": 175,
   "metadata": {},
   "outputs": [
    {
     "data": {
      "image/png": "[encoded data removed]",
      "text/plain": [
       "<matplotlib.figure.Figure at 0x7f2e0ae31160>"
      ]
     },
     "metadata": {},
     "output_type": "display_data"
    }
   ],
   "source": [
    "vectors_1 = get_vectors(country_capital)\n",
    "\n",
    "rev_lookup_1=get_embed(vectors_1,embeds)\n",
    "X_embed_1= TSNE(n_components=2).fit_transform(rev_lookup_1)\n",
    "\n",
    "fig=plt.figure()\n",
    "plt.subplot(1, 1,1)\n",
    "plt.scatter(X_embed_1[:,0],X_embed_1[:,-1],edgecolors='none',s=100)\n",
    "\n",
    "for i,data in enumerate(country_capital):\n",
    "    plt.annotate(data,(X_embed_1[i,0],X_embed_1[i,-1]),size=10)\n",
    "    \n",
    "\n",
    "plt.title('Country Capital')\n",
    "plt.show()\n",
    "\n"
   ]
  },
  {
   "cell_type": "code",
   "execution_count": 154,
   "metadata": {
    "collapsed": true,
    "scrolled": false
   },
   "outputs": [],
   "source": [
    "#For full vocab - takes 5 min to run\n",
    "\n",
    "from sklearn.manifold import TSNE\n",
    "import matplotlib.pyplot as plt\n",
    "with open(\"./tweets_data/vocabulary.pkl\", \"rb\") as f:\n",
    "        vocabulary = pickle.load(f)\n",
    "        vocab=list(vocabulary)\n",
    "\n",
    "vectors = get_vectors(vocab)\n",
    "rev_lookup=get_embed(vectors,embeds)\n",
    "X_embed= TSNE(n_components=2).fit_transform(rev_lookup)\n",
    "\n"
   ]
  },
  {
   "cell_type": "markdown",
   "metadata": {},
   "source": [
    "#### <span style=\"color:red\">TODO: </span> describe your observation of these word vectors\n",
    "\n",
    "Answer: \n",
    "Embeddings are mappings from words to their corresponding vectors. During this process, we obtain the vector index of each word and then the embedding from the embedding matrix trained from the previous section. T-sne is a method of dimensionality reduction. Using T-sne in this case reduces the dimensionality to two and it also aids in the structure of the vector relationships. For example, after running t-sne on the men, women, king, queen list, we can see that king-men is parallel to queen-women. Moreover, the relationship is also almost king=queen-women+men. For the country-capital list, it may by seen that the capital-country pairs can be joined by straight lines that run almost parallel to each other. An interesting observation is any two countries can be joined by a line and this line is (almost) parallel to a line join their respective capitals. Eg.,Rome-spain and italy-madrid. This method of word pairs can have multiple forms and they can be visualized differently but the local relationsip structure will be similar, thus introducing a level of randomness."
   ]
  },
  {
   "cell_type": "code",
   "execution_count": null,
   "metadata": {
    "collapsed": true
   },
   "outputs": [],
   "source": []
  }
 ],
 "metadata": {
  "kernelspec": {
   "display_name": "Python 3",
   "language": "python",
   "name": "python3"
  },
  "language_info": {
   "codemirror_mode": {
    "name": "ipython",
    "version": 3
   },
   "file_extension": ".py",
   "mimetype": "text/x-python",
   "name": "python",
   "nbconvert_exporter": "python",
   "pygments_lexer": "ipython3",
   "version": "3.5.4"
  }
 },
 "nbformat": 4,
 "nbformat_minor": 2
}
