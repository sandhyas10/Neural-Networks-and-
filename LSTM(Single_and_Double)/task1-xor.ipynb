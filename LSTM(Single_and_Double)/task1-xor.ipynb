{
 "cells": [
  {
   "cell_type": "markdown",
   "metadata": {},
   "source": [
    "# Task 1: XOR"
   ]
  },
  {
   "cell_type": "code",
   "execution_count": 14,
   "metadata": {},
   "outputs": [
    {
     "name": "stdout",
     "output_type": "stream",
     "text": [
      "The autoreload extension is already loaded. To reload it, use:\n",
      "  %reload_ext autoreload\n"
     ]
    }
   ],
   "source": [
    "# Import modules\n",
    "from __future__ import print_function\n",
    "import tensorflow as tf\n",
    "import numpy as np\n",
    "from numpy.random import shuffle\n",
    "import time\n",
    "import matplotlib.pyplot as plt\n",
    "\n",
    "# Plot configurations\n",
    "% matplotlib inline\n",
    "\n",
    "# Notebook auto reloads code. (Ref: http://stackoverflow.com/questions/1907993/autoreload-of-modules-in-ipython)\n",
    "% load_ext autoreload\n",
    "% autoreload 2"
   ]
  },
  {
   "cell_type": "markdown",
   "metadata": {},
   "source": [
    "## Task 1, Part 1: Backpropagation through time (BPTT)"
   ]
  },
  {
   "cell_type": "markdown",
   "metadata": {},
   "source": [
    "**Question:** Consider a simple RNN network shown in the following figure, where __ _wi, wh, b, a, c_ __ are the scalar parameters of the network. The loss function is the **mean squared error (MSE)**. Given input (x0, x1) = (1, 0), ground truth (g1, g2) = (1, 1), h0 = 0, (wi, wh, b, a, c) = (1, 1, 1, 1, 1), compute __ _(dwi, dwh, db, da, dc)_ __, which are the gradients of loss with repect to 5 parameters __ _(wi, wh, b, a, c)_ __.\n",
    "\n",
    "![bptt](./img/bptt.png)"
   ]
  },
  {
   "cell_type": "markdown",
   "metadata": {},
   "source": [
    "<span style=\"color:red\">TODO:</span>\n",
    "\n",
    "Answer the above question. \n",
    "\n",
    "* **[fill in here: Enter your derivations and the computational process]**\n",
    "* You can use LATEX to edit the equations, and Jupyter notebook can recognize basic LATEX syntax. Alternatively, you can edit equations in some other environment and then paste the screenshot of the equations here.\n",
    "\n",
    "$h_{1}$=0.881,\n",
    "$h_{2}$=0.868,\n",
    "$y_{1}$=1.881,\n",
    "$y_{2}$=1.868\n",
    "\n",
    "L=$({g_{1}-y_{1}})^{2}$+$({g_{2}-y_{2}})^{2}$\n",
    "L=$({1-1.881})^{2}$+$({1-1.868})^{2}= 1.56$\n",
    "\n",
    "$\\partial L/\\partial y= \\sum_{t=1}^{2}\\partial L_{t}/\\partial {y_{t}}$\n",
    "$\\partial L/\\partial y= \\partial L_{1}/\\partial {y_{1}} + \\partial L_{2}/\\partial {y_{2}}$\n",
    "$\\partial L/\\partial y= 2({g_{1}-y_{1}})*-1+2({g_{2}-y_{2}})*-1=3.498$\n",
    "\n",
    "$\\partial L/\\partial c$:\n",
    "\n",
    "$\\partial L/\\partial c=\\sum_{t=1}^{2}\\partial L_{t}/\\partial {y_{t}} * \\partial y_{t}/\\partial {c}$\n",
    "\n",
    "$\\partial L/\\partial c=\\partial L_{1}/\\partial {y_{1}} * \\partial y_{1}/\\partial {c}+ \\partial L_{2}/\\partial {y_{2}} * \\partial y_{2}/\\partial {c}$\n",
    "\n",
    "$\\partial y_{1}/\\partial {c}= 1$,\n",
    "$\\partial y_{2}/\\partial {c}= 1$\n",
    "\n",
    "$\\partial L/\\partial c= 2*0.881 + 2*0.868 = 3.498$\n",
    "\n",
    "\n",
    "$\\partial L/\\partial a$:\n",
    "\n",
    "$\\partial L/\\partial a=\\sum_{t=1}^{2}\\partial L_{t}/\\partial {y_{t}} * \\partial y_{t}/\\partial {a}$\n",
    "\n",
    "$\\partial L/\\partial a=\\partial L_{1}/\\partial {y_{1}} * \\partial y_{1}/\\partial {a}+ \\partial L_{2}/\\partial {y_{2}} * \\partial y_{2}/\\partial {a}$\n",
    "\n",
    "$\\partial y_{1}/\\partial {a}= h$,\n",
    "$\\partial y_{2}/\\partial {a}= h$\n",
    "\n",
    "$\\partial L/\\partial a= 2*0.881*0.881 + 2*0.868*0.868 = 3.058$\n",
    "\n",
    "\n",
    "\n",
    "$\\partial L/\\partial {w_{i}}=\\sum_{t=1}^{2}\\sum_{j=1}^{t}\\partial L_{t}/\\partial {y_{t}} * \\partial y_{t}/\\partial {h_{t}}*\\partial h_{t}/\\partial {h_{j}}*\\partial h_{j}/\\partial {w_{i}}$\n",
    "\n",
    "\n",
    "$\\partial L/\\partial {w_{i}}=\\partial L_{1}/\\partial {y_{1}} * \\partial y_{1}/\\partial {h_{1}}*\\partial h_{1}/\\partial {h_{1}}*\\partial h_{1}/\\partial {w_{i}} + \\partial L_{2}/\\partial {y_{2}} * \\partial y_{2}/\\partial {h_{2}}*\\partial h_{2}/\\partial {h_{1}}*\\partial h_{1}/\\partial {w_{i}} + \\partial L_{2}/\\partial {y_{2}} * \\partial y_{2}/\\partial {h_{2}}*\\partial h_{2}/\\partial {h_{2}}*\\partial h_{2}/\\partial {w_{i}}$\n",
    "\n",
    "$\\partial L/\\partial {w_{i}}= (-2*2({g_{1}-y_{1}})*a*h_{1}*(1-h_{1})*x_{0}) + (-2*2({g_{2}-y_{2}})*a*(h_{2}*(1-h_{2})*w_{h})*(h_{1}*(1-h_{1})*x_{0}) + (-2*2({g_{2}-y_{2}})*a*h_{2}*(1-h_{2})*x_{1})$\n",
    "\n",
    "$\\partial L/\\partial {w_{i}}=(-2*-0.881*0.119*0.881*1)+(-2*-0.868*1*0.132*0.868*.119*0.881)+0 =0.2055$\n",
    "\n",
    "\n",
    "$\\partial L/\\partial {w_{h}}=\\sum_{t=1}^{2}\\sum_{j=1}^{t}\\partial L_{t}/\\partial {y_{t}} * \\partial y_{t}/\\partial {h_{t}}*\\partial h_{t}/\\partial {h_{j}}*\\partial h_{j}/\\partial {w_{h}}$\n",
    "\n",
    "\n",
    "$\\partial L/\\partial {w_{h}}=\\partial L_{1}/\\partial {y_{1}} * \\partial y_{1}/\\partial {h_{1}}*\\partial h_{1}/\\partial {h_{1}}*\\partial h_{1}/\\partial {w_{h}} + \\partial L_{2}/\\partial {y_{2}} * \\partial y_{2}/\\partial {h_{2}}*\\partial h_{2}/\\partial {h_{1}}*\\partial h_{1}/\\partial {w_{h}} + \\partial L_{2}/\\partial {y_{2}} * \\partial y_{2}/\\partial {h_{2}}*\\partial h_{2}/\\partial {h_{2}}*\\partial h_{2}/\\partial {w_{h}}$\n",
    "\n",
    "$\\partial L/\\partial {w_{h}}= (-2*2({g_{1}-y_{1}})*a*h_{1}*(1-h_{1})*h_{0}) + (-2*2({g_{2}-y_{2}})*a*(h_{2}*(1-h_{2})*w_{h})*(h_{1}*(1-h_{1})*h_{0}) + (-2*2({g_{2}-y_{2}})*a*h_{2}*(1-h_{2})*h_{1})$\n",
    "\n",
    "$\\partial L/\\partial {w_{h}}=(-2*-0.881*0.119*0.881*0)+(-2*-0.868*1*0.132*0.868*.119*0.881*0)+(-2*-0.868*1*0.132*0.868*0.881) =0.1752$\n",
    "\n",
    "$\\partial L/\\partial b=\\sum_{t=1}^{2}\\sum_{j=1}^{t}\\partial L_{t}/\\partial {y_{t}} * \\partial y_{t}/\\partial {h_{t}}*\\partial h_{t}/\\partial {h_{j}}*\\partial h_{j}/\\partial {w_{h}}$\n",
    "\n",
    "\n",
    "$\\partial L/\\partial b=\\partial L_{1}/\\partial {y_{1}} * \\partial y_{1}/\\partial {h_{1}}*\\partial h_{1}/\\partial {h_{1}}*\\partial h_{1}/\\partial b + \\partial L_{2}/\\partial {y_{2}} * \\partial y_{2}/\\partial {h_{2}}*\\partial h_{2}/\\partial {h_{1}}*\\partial h_{1}/\\partial b + \\partial L_{2}/\\partial {y_{2}} * \\partial y_{2}/\\partial {h_{2}}*\\partial h_{2}/\\partial {h_{2}}*\\partial h_{2}/\\partial b$\n",
    "\n",
    "$\\partial L/\\partial b= (-2*2({g_{1}-y_{1}})*a*h_{1}*(1-h_{1})*1) + (-2*2({g_{2}-y_{2}})*a*(h_{2}*(1-h_{2})*w_{h})*(h_{1}*(1-h_{1})*1) + (-2*2({g_{2}-y_{2}})*a*h_{2}*(1-h_{2})*1)$\n",
    "\n",
    "$\\partial L/\\partial b=(-2*-0.881*0.119*0.881*1)+(-2*-0.868*1*0.132*0.868*.119*0.881*1)+(-2*-0.868*1*0.132*0.868*1) = 0.1847+0.0208+0.1989= 0.4044$\n",
    "\n",
    "\n",
    "$\\partial L/\\partial b=0.4044$,\n",
    "$\\partial L/\\partial {w_{h}}=0.1752$,\n",
    "$\\partial L/\\partial {w_{i}}=0.2055$,\n",
    "$\\partial L/\\partial a= 3.058$,\n",
    "$\\partial L/\\partial c=3.498$,\n"
   ]
  },
  {
   "cell_type": "markdown",
   "metadata": {},
   "source": [
    "## Task 1, Part 2: Use tensorflow modules to create XOR network\n",
    "\n",
    "In this part, you need to build and train an XOR network that can learn the XOR function. It is a very simple implementation of RNN and will give you an idea how RNN is built and how to train it."
   ]
  },
  {
   "cell_type": "markdown",
   "metadata": {},
   "source": [
    "### XOR network\n",
    "\n",
    "XOR network can learn the XOR $\\oplus$ function\n",
    "\n",
    "As shown in the figure below, and for instance, if input $(x0, x1, x2)$=(1,0,0), then output $(y1, y2, y3)$=(1,1,1). That is, $y_n = x_0\\oplus x_1 \\oplus ... \\oplus x_{n-1}$\n",
    "\n",
    "![xor_net](./img/xor.png)"
   ]
  },
  {
   "cell_type": "markdown",
   "metadata": {},
   "source": [
    "### Create data set\n",
    "This function provides you the way to generate the data which is required for the training process. You should utilize it when building your training function for the LSTM. Please read the source code for more information."
   ]
  },
  {
   "cell_type": "code",
   "execution_count": 15,
   "metadata": {
    "collapsed": true
   },
   "outputs": [],
   "source": [
    "from ecbm4040.xor.utils import create_dataset"
   ]
  },
  {
   "cell_type": "code",
   "execution_count": 3,
   "metadata": {
    "scrolled": true
   },
   "outputs": [
    {
     "data": {
      "text/plain": [
       "(array([[[1],\n",
       "         [1],\n",
       "         [1],\n",
       "         [0],\n",
       "         [0],\n",
       "         [0],\n",
       "         [0],\n",
       "         [0]],\n",
       " \n",
       "        [[1],\n",
       "         [1],\n",
       "         [1],\n",
       "         [1],\n",
       "         [1],\n",
       "         [0],\n",
       "         [0],\n",
       "         [1]],\n",
       " \n",
       "        [[0],\n",
       "         [0],\n",
       "         [0],\n",
       "         [1],\n",
       "         [1],\n",
       "         [0],\n",
       "         [0],\n",
       "         [1]],\n",
       " \n",
       "        [[1],\n",
       "         [1],\n",
       "         [1],\n",
       "         [0],\n",
       "         [0],\n",
       "         [0],\n",
       "         [1],\n",
       "         [0]],\n",
       " \n",
       "        [[1],\n",
       "         [1],\n",
       "         [1],\n",
       "         [1],\n",
       "         [1],\n",
       "         [1],\n",
       "         [0],\n",
       "         [0]],\n",
       " \n",
       "        [[0],\n",
       "         [0],\n",
       "         [0],\n",
       "         [0],\n",
       "         [1],\n",
       "         [1],\n",
       "         [1],\n",
       "         [0]],\n",
       " \n",
       "        [[1],\n",
       "         [0],\n",
       "         [1],\n",
       "         [0],\n",
       "         [1],\n",
       "         [1],\n",
       "         [0],\n",
       "         [0]],\n",
       " \n",
       "        [[1],\n",
       "         [1],\n",
       "         [0],\n",
       "         [1],\n",
       "         [1],\n",
       "         [0],\n",
       "         [0],\n",
       "         [0]],\n",
       " \n",
       "        [[1],\n",
       "         [0],\n",
       "         [1],\n",
       "         [1],\n",
       "         [0],\n",
       "         [0],\n",
       "         [1],\n",
       "         [1]],\n",
       " \n",
       "        [[0],\n",
       "         [0],\n",
       "         [1],\n",
       "         [0],\n",
       "         [0],\n",
       "         [1],\n",
       "         [0],\n",
       "         [1]]]), array([[1, 0, 1, 1, 1, 1, 1, 1],\n",
       "        [1, 0, 1, 0, 1, 1, 1, 0],\n",
       "        [0, 0, 0, 1, 0, 0, 0, 1],\n",
       "        [1, 0, 1, 1, 1, 1, 0, 0],\n",
       "        [1, 0, 1, 0, 1, 0, 0, 0],\n",
       "        [0, 0, 0, 0, 1, 0, 1, 1],\n",
       "        [1, 1, 0, 0, 1, 0, 0, 0],\n",
       "        [1, 0, 0, 1, 0, 0, 0, 0],\n",
       "        [1, 1, 0, 1, 1, 1, 0, 1],\n",
       "        [0, 0, 1, 1, 1, 0, 0, 1]]))"
      ]
     },
     "execution_count": 3,
     "metadata": {},
     "output_type": "execute_result"
    }
   ],
   "source": [
    "(create_dataset(10))"
   ]
  },
  {
   "cell_type": "markdown",
   "metadata": {},
   "source": [
    "### Build a network using a Tensorlow LSTMCell\n",
    "This section shows an example how to build a RNN network using an LSTM cell. LSTM cell is an inbuilt class in tensorflow which implements the real behavior of the LSTM neuron. \n",
    "\n",
    "Reference: [TensorFlow LSTM cell](https://www.tensorflow.org/api_docs/python/tf/contrib/rnn/LSTMCell)"
   ]
  },
  {
   "cell_type": "code",
   "execution_count": 16,
   "metadata": {
    "collapsed": true
   },
   "outputs": [],
   "source": [
    "from tensorflow.contrib.rnn import LSTMCell\n",
    "\n",
    "tf.reset_default_graph()\n",
    "\n",
    "# Input shape: (num_samples, seq_length, input_dimension)\n",
    "# Output shape: (num_samples, output_ground_truth), and output_ground_truth is 0/1. \n",
    "input_data = tf.placeholder(tf.float32,shape=[None,None,1])\n",
    "output_data = tf.placeholder(tf.int64,shape=[None,None])\n",
    "\n",
    "# define LSTM cell\n",
    "lstm_units = 64\n",
    "cell = LSTMCell(lstm_units,num_proj=2,state_is_tuple=True)\n",
    "\n",
    "# create LSTM network: you can also choose other modules provided by tensorflow, like static_rnn etc.\n",
    "out,_ = tf.nn.dynamic_rnn(cell,input_data,dtype=tf.float32)\n",
    "pred = tf.argmax(out,axis=2)\n",
    "\n",
    "# loss function\n",
    "loss = tf.reduce_mean(tf.nn.sparse_softmax_cross_entropy_with_logits(labels=output_data,logits=out))\n",
    "\n",
    "# optimization\n",
    "optimizer = tf.train.AdamOptimizer(learning_rate=0.1).minimize(loss)\n",
    "\n",
    "# accuracy\n",
    "correct_num = tf.equal(output_data,pred)\n",
    "accuracy = tf.reduce_mean(tf.cast(correct_num,tf.float32))"
   ]
  },
  {
   "cell_type": "markdown",
   "metadata": {},
   "source": [
    "### Training \n",
    "\n",
    "<span style='color:red'>TODO:</span> \n",
    "1. Build your training funciton for RNN; \n",
    "2. Plot the cost during the traning"
   ]
  },
  {
   "cell_type": "code",
   "execution_count": 17,
   "metadata": {},
   "outputs": [
    {
     "name": "stdout",
     "output_type": "stream",
     "text": [
      "<tensorflow.python.ops.rnn_cell_impl.LSTMCell object at 0x7ff5ec147d68>\n",
      "epoch 1: train cost = 0.026749536395072937\n",
      "epoch 2: train cost = 0.000578653416596353\n",
      "epoch 3: train cost = 0.00029093693592585623\n",
      "epoch 4: train cost = 0.00020755617879331112\n",
      "epoch 5: train cost = 0.00015722477110102773\n",
      "epoch 6: train cost = 0.000123407575301826\n",
      "epoch 7: train cost = 9.970094833988696e-05\n",
      "epoch 8: train cost = 8.224844350479543e-05\n",
      "epoch 9: train cost = 6.901350570842624e-05\n",
      "epoch 10: train cost = 5.8739933592732996e-05\n",
      "epoch 11: train cost = 5.062549462309107e-05\n",
      "epoch 12: train cost = 4.409994653542526e-05\n",
      "epoch 13: train cost = 3.879555515595712e-05\n",
      "epoch 14: train cost = 3.442031447775662e-05\n",
      "epoch 15: train cost = 3.0763072572881356e-05\n",
      "epoch 16: train cost = 2.7675383535097353e-05\n",
      "epoch 17: train cost = 2.504645090084523e-05\n",
      "epoch 18: train cost = 2.2792994059273042e-05\n",
      "epoch 19: train cost = 2.0862064047832973e-05\n",
      "epoch 20: train cost = 1.9170829546055757e-05\n"
     ]
    },
    {
     "data": {
      "image/png": "[encoded data removed]",
      "text/plain": [
       "<matplotlib.figure.Figure at 0x7ff5afc3bef0>"
      ]
     },
     "metadata": {},
     "output_type": "display_data"
    },
    {
     "data": {
      "image/png": "[encoded data removed]",
      "text/plain": [
       "<matplotlib.figure.Figure at 0x7ff5d0118fd0>"
      ]
     },
     "metadata": {},
     "output_type": "display_data"
    }
   ],
   "source": [
    "# YOUR TRAINING AND PLOTTING CODE HERE\n",
    "from tensorflow.contrib.rnn import LSTMCell\n",
    "\n",
    "X_train,y_train=create_dataset(10000)\n",
    "\n",
    "tf.reset_default_graph()\n",
    "\n",
    "# Input shape: (num_samples, seq_length, input_dimension)\n",
    "# Output shape: (num_samples, output_ground_truth), and output_ground_truth is 0/1. \n",
    "input_data = tf.placeholder(tf.float32,shape=[None,None,1])\n",
    "output_data = tf.placeholder(tf.int64,shape=[None,None])\n",
    "\n",
    "# define LSTM cell\n",
    "lstm_units = 64\n",
    "cell = LSTMCell(lstm_units,num_proj=2,state_is_tuple=True)\n",
    "print(cell)\n",
    "# create LSTM network: you can also choose other modules provided by tensorflow, like static_rnn etc.\n",
    "out,_ = tf.nn.dynamic_rnn(cell,input_data,dtype=tf.float32)\n",
    "pred = tf.argmax(out,axis=2)\n",
    "\n",
    "# loss function\n",
    "loss = tf.reduce_mean(tf.nn.sparse_softmax_cross_entropy_with_logits(labels=output_data,logits=out))\n",
    "\n",
    "# optimization\n",
    "optimizer = tf.train.AdamOptimizer(learning_rate=0.1).minimize(loss)\n",
    "\n",
    "# accuracy\n",
    "correct_num = tf.equal(output_data,pred)\n",
    "accuracy = tf.reduce_mean(tf.cast(correct_num,tf.float32))\n",
    "\n",
    "init = tf.global_variables_initializer()\n",
    "\n",
    "\n",
    "batch_size_m = 300\n",
    "num_batch_m = X_train.shape[0]//batch_size_m\n",
    "epochs=20\n",
    "train_cost_li=[]\n",
    "train_cost_li_ep=[]\n",
    "with tf.Session() as sess:\n",
    "    sess.run(init)\n",
    "    for e in range(epochs):\n",
    "        for i in range(num_batch_m):\n",
    "            X_batch_m, y_batch_m = X_train[i*batch_size_m:(i+1)*batch_size_m,:,:], y_train[i*batch_size_m:(i+1)*batch_size_m,:]\n",
    "            _,train_cost=sess.run([optimizer,loss], feed_dict={input_data: X_batch_m, output_data: y_batch_m})\n",
    "            train_cost_li.append(train_cost)\n",
    "        train_cost_li_ep.append(train_cost)\n",
    "        print('epoch {}: train cost = {}'.format(e+1, train_cost))\n",
    "    \n",
    "plt.plot(train_cost_li, label=\"train accuracy for every iteration\")\n",
    "plt.xlabel(\"Total iterations\")\n",
    "plt.ylabel(\"Loss\")\n",
    "plt.legend()\n",
    "plt.show()  \n",
    "\n",
    "\n",
    "plt.plot(train_cost_li_ep, label=\"train accuracy for every epoch\")\n",
    "plt.xlabel(\"Total epochs\")\n",
    "plt.ylabel(\"Loss\")\n",
    "plt.legend()\n",
    "\n",
    "plt.show()  \n"
   ]
  },
  {
   "cell_type": "markdown",
   "metadata": {
    "collapsed": true
   },
   "source": [
    "## Task 1, Part 3 :  Build your own LSTMCell\n",
    "In this part, you need to build your own LSTM cell to achieve the LSTM functionality. \n",
    "\n",
    "<span style=\"color:red\">TODO:</span> \n",
    "1. Finish class **MyLSTMCell** in ecbm4040/xor/rnn.py;\n",
    "2. Write the training function for your RNN;\n",
    "3. Plot the cost during training."
   ]
  },
  {
   "cell_type": "code",
   "execution_count": 18,
   "metadata": {},
   "outputs": [
    {
     "name": "stdout",
     "output_type": "stream",
     "text": [
      "/home/ecbm4040/.local/lib/python3.5/site-packages/tensorflow/__init__.py\n"
     ]
    }
   ],
   "source": [
    "import tensorflow as tf\n",
    "print(tf.__file__)"
   ]
  },
  {
   "cell_type": "code",
   "execution_count": 19,
   "metadata": {
    "collapsed": true,
    "scrolled": true
   },
   "outputs": [],
   "source": [
    "from ecbm4040.xor.rnn import MyLSTMCell\n",
    "\n",
    "# recreate xor netowrk with your own LSTM cell\n",
    "tf.reset_default_graph()\n",
    "X_train,y_train=create_dataset(100)\n",
    "X_val,y_val=create_dataset(70)\n",
    "#Input shape: (num_samples,seq_length,input_dimension)\n",
    "#Output shape: (num_samples, output_ground_truth), and output_ground_truth is 0/1. \n",
    "input_data = tf.placeholder(tf.float32,shape=[None,None,1])\n",
    "output_data = tf.placeholder(tf.int64,shape=[None,None])\n",
    "\n",
    "# recreate xor netowrk with your own LSTM cell\n",
    "lstm_units = 64\n",
    "cell = MyLSTMCell(lstm_units,num_proj=2)\n",
    "\n",
    "# create LSTM network: you can also choose other modules provided by tensorflow, like static_rnn etc.\n",
    "out,_ = tf.nn.dynamic_rnn(cell,input_data,dtype=tf.float32)\n",
    "pred = tf.argmax(out,axis=2)\n",
    "\n",
    "# loss function\n",
    "loss = tf.reduce_mean(tf.nn.sparse_softmax_cross_entropy_with_logits(labels=output_data,logits=out))\n",
    "# optimization\n",
    "optimizer = tf.train.AdamOptimizer(learning_rate=0.1).minimize(loss)\n",
    "# accuracy\n",
    "correct = tf.equal(output_data,pred)\n",
    "accuracy = tf.reduce_mean(tf.cast(correct,tf.float32))"
   ]
  },
  {
   "cell_type": "markdown",
   "metadata": {},
   "source": [
    "### Training"
   ]
  },
  {
   "cell_type": "code",
   "execution_count": 20,
   "metadata": {
    "scrolled": false
   },
   "outputs": [
    {
     "name": "stdout",
     "output_type": "stream",
     "text": [
      "<ecbm4040.xor.rnn.MyLSTMCell object at 0x7ff5d00fa6a0>\n",
      "epoch 1: train cost = 0.10476277023553848\n",
      "epoch 2: train cost = 0.08547595888376236\n",
      "epoch 3: train cost = 0.08518090844154358\n",
      "epoch 4: train cost = 0.08509404957294464\n",
      "epoch 5: train cost = 0.08504039794206619\n",
      "epoch 6: train cost = 0.08501043170690536\n",
      "epoch 7: train cost = 0.08499085903167725\n",
      "epoch 8: train cost = 0.08497688174247742\n",
      "epoch 9: train cost = 0.08496647328138351\n",
      "epoch 10: train cost = 0.08495836704969406\n",
      "epoch 11: train cost = 0.08495187759399414\n",
      "epoch 12: train cost = 0.08494653552770615\n",
      "epoch 13: train cost = 0.0849420577287674\n",
      "epoch 14: train cost = 0.08493825793266296\n",
      "epoch 15: train cost = 0.08493504673242569\n",
      "epoch 16: train cost = 0.08493225276470184\n",
      "epoch 17: train cost = 0.08492987602949142\n",
      "epoch 18: train cost = 0.08492779731750488\n",
      "epoch 19: train cost = 0.0849260464310646\n",
      "epoch 20: train cost = 0.08492450416088104\n"
     ]
    },
    {
     "data": {
      "image/png": "[encoded data removed]",
      "text/plain": [
       "<matplotlib.figure.Figure at 0x7ff63dbc3be0>"
      ]
     },
     "metadata": {},
     "output_type": "display_data"
    },
    {
     "data": {
      "image/png": "[encoded data removed]",
      "text/plain": [
       "<matplotlib.figure.Figure at 0x7ff5d05f6e48>"
      ]
     },
     "metadata": {},
     "output_type": "display_data"
    }
   ],
   "source": [
    "# YOUR TRAINING AND PLOTTING CODE HERE\n",
    "from ecbm4040.xor.rnn import MyLSTMCell\n",
    "\n",
    "X_train,y_train=create_dataset(10000)\n",
    "\n",
    "tf.reset_default_graph()\n",
    "\n",
    "# Input shape: (num_samples, seq_length, input_dimension)\n",
    "# Output shape: (num_samples, output_ground_truth), and output_ground_truth is 0/1. \n",
    "input_data = tf.placeholder(tf.float32,shape=[None,None,1])\n",
    "output_data = tf.placeholder(tf.int64,shape=[None,None])\n",
    "\n",
    "# define LSTM cell\n",
    "lstm_units = 64\n",
    "cell = MyLSTMCell(lstm_units,num_proj=2)\n",
    "print(cell)\n",
    "# create LSTM network: you can also choose other modules provided by tensorflow, like static_rnn etc.\n",
    "out,_ = tf.nn.dynamic_rnn(cell,input_data,dtype=tf.float32)\n",
    "pred = tf.argmax(out,axis=2)\n",
    "\n",
    "# loss function\n",
    "loss = tf.reduce_mean(tf.nn.sparse_softmax_cross_entropy_with_logits(labels=output_data,logits=out))\n",
    "\n",
    "# optimization\n",
    "optimizer = tf.train.AdamOptimizer(learning_rate=0.1).minimize(loss)\n",
    "\n",
    "# accuracy\n",
    "correct_num = tf.equal(output_data,pred)\n",
    "accuracy = tf.reduce_mean(tf.cast(correct_num,tf.float32))\n",
    "\n",
    "init = tf.global_variables_initializer()\n",
    "\n",
    "\n",
    "batch_size_m = 300\n",
    "num_batch_m = X_train.shape[0]//batch_size_m\n",
    "epochs=20\n",
    "train_cost_li=[]\n",
    "train_cost_li_ep=[]\n",
    "with tf.Session() as sess:\n",
    "    sess.run(init)\n",
    "    for e in range(epochs):\n",
    "        for i in range(num_batch_m):\n",
    "            X_batch_m, y_batch_m = X_train[i*batch_size_m:(i+1)*batch_size_m,:,:], y_train[i*batch_size_m:(i+1)*batch_size_m,:]\n",
    "            _,train_cost=sess.run([optimizer,loss], feed_dict={input_data: X_batch_m, output_data: y_batch_m})\n",
    "            train_cost_li.append(train_cost)\n",
    "        train_cost_li_ep.append(train_cost)\n",
    "        print('epoch {}: train cost = {}'.format(e+1, train_cost))\n",
    "    \n",
    "plt.plot(train_cost_li, label=\"train accuracy for every iteration\")\n",
    "plt.xlabel(\"Total iterations\")\n",
    "plt.ylabel(\"Loss\")\n",
    "plt.legend()\n",
    "plt.show()  \n",
    "\n",
    "\n",
    "plt.plot(train_cost_li_ep, label=\"train accuracy for every epoch\")\n",
    "plt.xlabel(\"Total epochs\")\n",
    "plt.ylabel(\"Loss\")\n",
    "plt.legend()\n",
    "\n",
    "plt.show()  \n",
    "\n"
   ]
  },
  {
   "cell_type": "code",
   "execution_count": null,
   "metadata": {
    "collapsed": true
   },
   "outputs": [],
   "source": []
  }
 ],
 "metadata": {
  "kernelspec": {
   "display_name": "Python 3",
   "language": "python",
   "name": "python3"
  },
  "language_info": {
   "codemirror_mode": {
    "name": "ipython",
    "version": 3
   },
   "file_extension": ".py",
   "mimetype": "text/x-python",
   "name": "python",
   "nbconvert_exporter": "python",
   "pygments_lexer": "ipython3",
   "version": "3.5.4"
  }
 },
 "nbformat": 4,
 "nbformat_minor": 2
}
